{
 "cells": [
  {
   "cell_type": "code",
   "execution_count": 88,
   "id": "0500db1a-2e09-4370-8554-28988feecbd5",
   "metadata": {},
   "outputs": [],
   "source": [
    "import numpy as np\n",
    "import pandas as pd\n",
    "import matplotlib.pyplot as plt\n",
    "from sklearn.tree import DecisionTreeClassifier \n",
    "from sklearn.model_selection import train_test_split \n",
    "from sklearn import metrics  \n",
    "#from sklearn.metrics import confusion_matrix\n",
    "from sklearn.model_selection import KFold\n",
    "from sklearn.tree import export_graphviz\n",
    "from IPython.display import Image  \n",
    "import pydotplus"
   ]
  },
  {
   "cell_type": "code",
   "execution_count": 89,
   "id": "7a7903e3-ac63-41fd-a501-2c30a7fd0864",
   "metadata": {},
   "outputs": [
    {
     "data": {
      "text/html": [
       "<div>\n",
       "<style scoped>\n",
       "    .dataframe tbody tr th:only-of-type {\n",
       "        vertical-align: middle;\n",
       "    }\n",
       "\n",
       "    .dataframe tbody tr th {\n",
       "        vertical-align: top;\n",
       "    }\n",
       "\n",
       "    .dataframe thead th {\n",
       "        text-align: right;\n",
       "    }\n",
       "</style>\n",
       "<table border=\"1\" class=\"dataframe\">\n",
       "  <thead>\n",
       "    <tr style=\"text-align: right;\">\n",
       "      <th></th>\n",
       "      <th>id</th>\n",
       "      <th>status</th>\n",
       "      <th>age</th>\n",
       "      <th>n_child</th>\n",
       "      <th>education</th>\n",
       "      <th>profession</th>\n",
       "      <th>device</th>\n",
       "      <th>account_balance</th>\n",
       "      <th>loan</th>\n",
       "      <th>mortgage</th>\n",
       "      <th>credit</th>\n",
       "      <th>positive</th>\n",
       "      <th>campaign_type</th>\n",
       "      <th>consent</th>\n",
       "      <th>n_contact</th>\n",
       "      <th>l_date</th>\n",
       "      <th>l_call_duration</th>\n",
       "      <th>subscribed</th>\n",
       "      <th>p_campain</th>\n",
       "    </tr>\n",
       "  </thead>\n",
       "  <tbody>\n",
       "    <tr>\n",
       "      <th>0</th>\n",
       "      <td>512491</td>\n",
       "      <td>married</td>\n",
       "      <td>32</td>\n",
       "      <td>unknown</td>\n",
       "      <td>doctoral</td>\n",
       "      <td>student</td>\n",
       "      <td>cellular</td>\n",
       "      <td>0.075728</td>\n",
       "      <td>False</td>\n",
       "      <td>True</td>\n",
       "      <td>False</td>\n",
       "      <td>True</td>\n",
       "      <td>phone call</td>\n",
       "      <td>False</td>\n",
       "      <td>0.016129</td>\n",
       "      <td>04-Feb</td>\n",
       "      <td>0.181818</td>\n",
       "      <td>False</td>\n",
       "      <td>True</td>\n",
       "    </tr>\n",
       "    <tr>\n",
       "      <th>1</th>\n",
       "      <td>495633</td>\n",
       "      <td>married</td>\n",
       "      <td>45</td>\n",
       "      <td>1</td>\n",
       "      <td>master</td>\n",
       "      <td>scientist</td>\n",
       "      <td>cellular</td>\n",
       "      <td>0.086209</td>\n",
       "      <td>False</td>\n",
       "      <td>True</td>\n",
       "      <td>False</td>\n",
       "      <td>True</td>\n",
       "      <td>phone call</td>\n",
       "      <td>False</td>\n",
       "      <td>0.000000</td>\n",
       "      <td>08-Jul</td>\n",
       "      <td>0.350649</td>\n",
       "      <td>False</td>\n",
       "      <td>False</td>\n",
       "    </tr>\n",
       "    <tr>\n",
       "      <th>2</th>\n",
       "      <td>507946</td>\n",
       "      <td>married</td>\n",
       "      <td>54</td>\n",
       "      <td>2</td>\n",
       "      <td>master</td>\n",
       "      <td>technician</td>\n",
       "      <td>telephone</td>\n",
       "      <td>0.101270</td>\n",
       "      <td>False</td>\n",
       "      <td>True</td>\n",
       "      <td>False</td>\n",
       "      <td>True</td>\n",
       "      <td>phone call</td>\n",
       "      <td>False</td>\n",
       "      <td>0.000000</td>\n",
       "      <td>19-Nov</td>\n",
       "      <td>0.467532</td>\n",
       "      <td>False</td>\n",
       "      <td>False</td>\n",
       "    </tr>\n",
       "    <tr>\n",
       "      <th>3</th>\n",
       "      <td>491165</td>\n",
       "      <td>married</td>\n",
       "      <td>30</td>\n",
       "      <td>unknown</td>\n",
       "      <td>master</td>\n",
       "      <td>engineer</td>\n",
       "      <td>unknown</td>\n",
       "      <td>0.078048</td>\n",
       "      <td>True</td>\n",
       "      <td>True</td>\n",
       "      <td>False</td>\n",
       "      <td>True</td>\n",
       "      <td>phone call</td>\n",
       "      <td>False</td>\n",
       "      <td>0.000000</td>\n",
       "      <td>04-Jun</td>\n",
       "      <td>0.155844</td>\n",
       "      <td>False</td>\n",
       "      <td>False</td>\n",
       "    </tr>\n",
       "    <tr>\n",
       "      <th>4</th>\n",
       "      <td>494627</td>\n",
       "      <td>married</td>\n",
       "      <td>40</td>\n",
       "      <td>unknown</td>\n",
       "      <td>doctoral</td>\n",
       "      <td>manager</td>\n",
       "      <td>unknown</td>\n",
       "      <td>0.063401</td>\n",
       "      <td>True</td>\n",
       "      <td>True</td>\n",
       "      <td>True</td>\n",
       "      <td>False</td>\n",
       "      <td>phone call</td>\n",
       "      <td>False</td>\n",
       "      <td>0.016129</td>\n",
       "      <td>23-Jun</td>\n",
       "      <td>0.285714</td>\n",
       "      <td>False</td>\n",
       "      <td>False</td>\n",
       "    </tr>\n",
       "  </tbody>\n",
       "</table>\n",
       "</div>"
      ],
      "text/plain": [
       "      id    status  age  n_child education  profession     device  \\\n",
       "0  512491  married   32  unknown  doctoral     student   cellular   \n",
       "1  495633  married   45        1    master   scientist   cellular   \n",
       "2  507946  married   54        2    master  technician  telephone   \n",
       "3  491165  married   30  unknown    master    engineer    unknown   \n",
       "4  494627  married   40  unknown  doctoral     manager    unknown   \n",
       "\n",
       "   account_balance   loan  mortgage  credit  positive campaign_type  consent  \\\n",
       "0         0.075728  False      True   False      True    phone call    False   \n",
       "1         0.086209  False      True   False      True    phone call    False   \n",
       "2         0.101270  False      True   False      True    phone call    False   \n",
       "3         0.078048   True      True   False      True    phone call    False   \n",
       "4         0.063401   True      True    True     False    phone call    False   \n",
       "\n",
       "   n_contact  l_date  l_call_duration  subscribed  p_campain  \n",
       "0   0.016129  04-Feb         0.181818       False       True  \n",
       "1   0.000000  08-Jul         0.350649       False      False  \n",
       "2   0.000000  19-Nov         0.467532       False      False  \n",
       "3   0.000000  04-Jun         0.155844       False      False  \n",
       "4   0.016129  23-Jun         0.285714       False      False  "
      ]
     },
     "execution_count": 89,
     "metadata": {},
     "output_type": "execute_result"
    }
   ],
   "source": [
    "df = pd.read_csv(\"./data/pre_process_data.csv\", index_col=0)\n",
    "df.head()"
   ]
  },
  {
   "cell_type": "code",
   "execution_count": 90,
   "id": "b1cd810b-ed27-4934-9d74-762e23220784",
   "metadata": {},
   "outputs": [],
   "source": [
    "for col in df:\n",
    "    if df[col].dtype == 'object':\n",
    "        df[col] = df[col].astype('category')\n",
    "        df[col] = df[col].cat.codes"
   ]
  },
  {
   "cell_type": "code",
   "execution_count": 91,
   "id": "4e5b310b-07db-4e32-8765-5f9d616f736b",
   "metadata": {},
   "outputs": [],
   "source": [
    "df = df.drop(['id ','l_date'], axis=1)\n",
    "X = df.drop('subscribed', axis=1)\n",
    "y = df['subscribed']"
   ]
  },
  {
   "cell_type": "code",
   "execution_count": 92,
   "id": "1f9c71d4-1e5b-4cac-b587-dff535e5ffae",
   "metadata": {},
   "outputs": [],
   "source": [
    "X_train, X_test, y_train, y_test = train_test_split(X, y, test_size=0.25, random_state=42) "
   ]
  },
  {
   "cell_type": "code",
   "execution_count": 93,
   "id": "f971755e-4222-49ed-b454-63fdfeb3fa7d",
   "metadata": {},
   "outputs": [],
   "source": [
    "# Create Decision Tree classifer object\n",
    "clf = DecisionTreeClassifier(random_state=42) "
   ]
  },
  {
   "cell_type": "code",
   "execution_count": 94,
   "id": "60d8f0da-3978-434d-9a00-9123972f9cb7",
   "metadata": {},
   "outputs": [],
   "source": [
    "# Train Decision Tree Classifer \n",
    "clf = clf.fit(X_train,y_train)"
   ]
  },
  {
   "cell_type": "code",
   "execution_count": 95,
   "id": "a7dc06c4-bff1-4dc3-9afa-1cf144249971",
   "metadata": {},
   "outputs": [],
   "source": [
    "# Predict the label\n",
    "y_pred = clf.predict(X_test)"
   ]
  },
  {
   "cell_type": "markdown",
   "id": "51fde487-f292-4755-a63d-32583d0fa3c8",
   "metadata": {},
   "source": [
    "\n",
    "#### "
   ]
  },
  {
   "cell_type": "code",
   "execution_count": 86,
   "id": "744c3770-e926-441a-b141-0fc7754070f1",
   "metadata": {},
   "outputs": [
    {
     "name": "stdout",
     "output_type": "stream",
     "text": [
      "1.0\n"
     ]
    },
    {
     "data": {
      "text/html": [
       "<div>\n",
       "<style scoped>\n",
       "    .dataframe tbody tr th:only-of-type {\n",
       "        vertical-align: middle;\n",
       "    }\n",
       "\n",
       "    .dataframe tbody tr th {\n",
       "        vertical-align: top;\n",
       "    }\n",
       "\n",
       "    .dataframe thead th {\n",
       "        text-align: right;\n",
       "    }\n",
       "</style>\n",
       "<table border=\"1\" class=\"dataframe\">\n",
       "  <thead>\n",
       "    <tr style=\"text-align: right;\">\n",
       "      <th></th>\n",
       "      <th>0</th>\n",
       "    </tr>\n",
       "  </thead>\n",
       "  <tbody>\n",
       "    <tr>\n",
       "      <th>0</th>\n",
       "      <td>1</td>\n",
       "    </tr>\n",
       "  </tbody>\n",
       "</table>\n",
       "</div>"
      ],
      "text/plain": [
       "   0\n",
       "0  1"
      ]
     },
     "execution_count": 86,
     "metadata": {},
     "output_type": "execute_result"
    }
   ],
   "source": [
    "print(metrics.accuracy_score(y_test, y_pred))\n",
    "pd.DataFrame(metrics.confusion_matrix(y_test, y_pred))\n"
   ]
  },
  {
   "cell_type": "code",
   "execution_count": 96,
   "id": "2927a721-0085-4ebb-8150-9f394b28cb84",
   "metadata": {},
   "outputs": [
    {
     "data": {
      "image/png": "[encoded data removed]",
      "text/plain": [
       "<IPython.core.display.Image object>"
      ]
     },
     "execution_count": 96,
     "metadata": {},
     "output_type": "execute_result"
    }
   ],
   "source": [
    "dot = export_graphviz(clf, filled=True, rounded=True, \n",
    "                special_characters=True,feature_names = X.columns,class_names=['0','1'])\n",
    "graph = pydotplus.graph_from_dot_data(dot)  \n",
    "graph.write_png('tree1.png')\n",
    "Image(graph.create_png())"
   ]
  },
  {
   "cell_type": "code",
   "execution_count": null,
   "id": "e5de5419-c166-49a2-a745-6ef296dbc1e7",
   "metadata": {},
   "outputs": [],
   "source": []
  }
 ],
 "metadata": {
  "kernelspec": {
   "display_name": "Python 3",
   "language": "python",
   "name": "python3"
  },
  "language_info": {
   "codemirror_mode": {
    "name": "ipython",
    "version": 3
   },
   "file_extension": ".py",
   "mimetype": "text/x-python",
   "name": "python",
   "nbconvert_exporter": "python",
   "pygments_lexer": "ipython3",
   "version": "3.8.8"
  }
 },
 "nbformat": 4,
 "nbformat_minor": 5
}
